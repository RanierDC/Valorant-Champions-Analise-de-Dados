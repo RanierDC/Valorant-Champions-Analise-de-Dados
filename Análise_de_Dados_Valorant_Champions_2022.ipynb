{
  "cells": [
    {
      "cell_type": "code",
      "execution_count": 69,
      "metadata": {
        "id": "rQhF6wY0x4jj"
      },
      "outputs": [],
      "source": [
        "import pandas as pd\n",
        "import numpy as np\n",
        "import matplotlib.pyplot as plt\n",
        "import seaborn as sns"
      ]
    },
    {
      "cell_type": "markdown",
      "metadata": {
        "id": "DRJk1X8HGb-M"
      },
      "source": [
        "## Análise Rápida dos Dados"
      ]
    },
    {
      "cell_type": "code",
      "execution_count": 70,
      "metadata": {
        "id": "Xi2OrcePyD6z"
      },
      "outputs": [],
      "source": [
        "# Lendo o DF e assimilando a uma variavel para ficar mais fácil de manipular\n",
        "dados = pd.read_csv('https://raw.githubusercontent.com/RanierDC/Valorant-Champions-Analise-de-Dados/main/dados/valorant_2022.csv')"
      ]
    },
    {
      "cell_type": "code",
      "execution_count": null,
      "metadata": {
        "id": "jOHhm1jxyYxL"
      },
      "outputs": [],
      "source": [
        "# Conhecendo um pouco sobre os dados do DF\n",
        "dados.head(19)"
      ]
    },
    {
      "cell_type": "code",
      "execution_count": null,
      "metadata": {
        "id": "rFXc1h0Xyez7"
      },
      "outputs": [],
      "source": [
        "# Tendo um \"overview\" estatístico para sabermos média, desvio padrão e dispersão dos dados\n",
        "dados.describe().round(2)"
      ]
    },
    {
      "cell_type": "code",
      "execution_count": null,
      "metadata": {
        "id": "Sk7GqvcGytmk"
      },
      "outputs": [],
      "source": [
        "# Saber quantidade de linhas e colunas do DF\n",
        "dados.shape"
      ]
    },
    {
      "cell_type": "code",
      "execution_count": null,
      "metadata": {
        "id": "HHLLmSNey89p"
      },
      "outputs": [],
      "source": [
        "# Obter informações dos tipos de dados que vão ser trabalhados e se existe alguma\n",
        "# info nula\n",
        "dados.info()"
      ]
    },
    {
      "cell_type": "code",
      "execution_count": 75,
      "metadata": {
        "id": "rbqsOMOE-FAX"
      },
      "outputs": [],
      "source": [
        "# Limpando a coluna de Premiação (Prize)\n",
        "dados.Prize= dados['Prize'].str.replace('$','')\n",
        "dados.Prize= dados['Prize'].str.replace('\\t','')\n",
        "dados.Prize= dados['Prize'].str.replace(',','')\n",
        "\n",
        "# Mudando o tipo de dado (object/string -> float)\n",
        "dados.Prize = dados['Prize'].astype(float)\n",
        "\n",
        "# Limpando e mudando o tipo de dado da coluna KAST (object/string -> float)\n",
        "dados.KAST = dados['KAST'].str.replace('%','')\n",
        "dados.KAST = dados['KAST'].astype(float)"
      ]
    },
    {
      "cell_type": "markdown",
      "metadata": {
        "id": "ZbUdgljI79Gz"
      },
      "source": [
        "Perguntas para responder:\n",
        "\n",
        "- Qual função, além de Duelista, teve mais Kills (abates)?\n",
        "\n",
        "- Qual função tem mais impacto?\n",
        "\n",
        "- Qual função tem a maior porcentagem de headshots?"
      ]
    },
    {
      "cell_type": "code",
      "execution_count": null,
      "metadata": {
        "id": "eaP0XVXM8B-u"
      },
      "outputs": [],
      "source": [
        "# Questão 1\n",
        "# Verificando todas as funções (role) existem no DF\n",
        "dados.Role.unique()\n",
        "\n",
        "# Plotando em um gráfico de barras com informações de Kills por Função\n",
        "# Chegando na resposta de a segunda Role com mais abate são os Controladores\n",
        "ax = sns.barplot(data = dados, y = 'Kill', x = 'Role', errorbar=None)\n",
        "ax.set_xlabel('Função', fontsize = 12)\n",
        "ax.set_ylabel('Quantidade de Kills', fontsize = 12)\n",
        "ax.set_title('Quantidade de Kills por função', fontsize = 20)"
      ]
    },
    {
      "cell_type": "code",
      "execution_count": null,
      "metadata": {
        "id": "-3lbERod8gOi"
      },
      "outputs": [],
      "source": [
        "# Questão 2\n",
        "\n",
        "# Usando a mesma lógica do anterior, foi só substituir as colunas\n",
        "# Assim, constatando uma leve superioridade da função de Controlador (desconsiderando uma possível margem de erro)\n",
        "ax = sns.barplot(data = dados, y = 'KAST', x = 'Role', errorbar=None, )\n",
        "ax.set_xlabel('Função', fontsize = 12)\n",
        "ax.set_ylabel('Impacto por partida (%)', fontsize = 12)\n",
        "ax.set_title('Porcentagem de KAST (impacto) por Função', fontsize = 18)"
      ]
    },
    {
      "cell_type": "code",
      "execution_count": null,
      "metadata": {
        "id": "BRQYq2aG8kzB"
      },
      "outputs": [],
      "source": [
        "# Questão 3\n",
        "\n",
        "# Continuando a lógica aplicada, a função com mais taxas de HS também foram os controladores\n",
        "# Podendo-se analiser uma incrível importância desta função dentro do game\n",
        "ax = sns.barplot(data = dados, y = 'HS %', x = 'Role', errorbar=None, )\n",
        "ax.set_xlabel('Função', fontsize = 12)\n",
        "ax.set_ylabel('Headshots (%)', fontsize = 12)\n",
        "ax.set_title('Porcentagem de Headshots por Função', fontsize = 20)"
      ]
    },
    {
      "cell_type": "markdown",
      "metadata": {
        "id": "JhqcTTswGTM_"
      },
      "source": [
        "## Experimentos com Data Vizualization e Regressão de Dados\n",
        "\n",
        "\n",
        "\n"
      ]
    },
    {
      "cell_type": "code",
      "execution_count": null,
      "metadata": {
        "id": "nbl9C36rz8Uw"
      },
      "outputs": [],
      "source": [
        "# Os dados que mais se correlecionam para realizar uma análise \"freestyle\"\n",
        "# O que mais tem possíveis combinações para análise é a coluna Kill\n",
        "dados.corr(method='pearson', min_periods=1, numeric_only=True)"
      ]
    },
    {
      "cell_type": "code",
      "execution_count": null,
      "metadata": {
        "id": "RFj3MHDS2Pos"
      },
      "outputs": [],
      "source": [
        "# Vizualizo os 10 primeiros dados para ter mais noção\n",
        "dados.head(10)"
      ]
    },
    {
      "cell_type": "code",
      "execution_count": null,
      "metadata": {
        "id": "aXSZoHXa0HXz"
      },
      "outputs": [],
      "source": [
        "# Plotando informações de kill dos jogadores do campeonato\n",
        "# Tendência a queda com um pico muito acentuado, podendo ser uma possível relação\n",
        "# a poucos jogos dos jogadores para poderem ter dados melhores ou por \"falta\" de habilidade\n",
        "fig, ax = plt.subplots(figsize = (15, 6))\n",
        "\n",
        "ax.set_title('Comparação de Kills', fontsize = 20)\n",
        "ax.set_ylabel('Quantidade de Kills', fontsize = 16)\n",
        "ax.set_xlabel('Quantidade de Jogadores', fontsize = 16)\n",
        "ax = dados['Kill'].plot()\n"
      ]
    },
    {
      "cell_type": "code",
      "execution_count": null,
      "metadata": {
        "id": "ECKzF29T2UL2"
      },
      "outputs": [],
      "source": [
        "\"\"\"\n",
        "  Um boxplot para ver a dispersão das kills em todos os jogadores em um geral.Como\n",
        "o gráfico anterior mostrou, muitos players tiveram menos que 150 kills no camp\n",
        "deixando a mediana descentralizada.\n",
        "  Porém, houve um Outliner de +300 kills, porém não desconsiderarei este único\n",
        "dado.\n",
        "\"\"\"\n",
        "ax = sns.boxplot(data = dados['Kill'], orient = 'h')\n",
        "\n",
        "ax.figure.set_size_inches(13, 6)\n",
        "ax.set_title('Dispersão de Kills', fontsize = 20)\n",
        "ax.set_xlabel('Quantidades de Kills', fontsize = 16)"
      ]
    },
    {
      "cell_type": "code",
      "execution_count": null,
      "metadata": {
        "id": "AWnTUrzc2sPR"
      },
      "outputs": [],
      "source": [
        "\"\"\"\n",
        "  Para ter uma visão mais específica de dentro do jogo, fiz um boxplot para comparar\n",
        "as kills por função. Observei que os duelistas tem uma natural diferença no quesito kills,\n",
        "explicando o fato de duelistas (em uma visão superficial) seja uma função impactante em rounds\n",
        "clutch (decisivos) que precisem de uma vantagem numérica adquirido ao abater um inimigo.\n",
        "\n",
        "  Iniciadores e Controladores se comportam de forma muito semenlhantes, com uma\n",
        "diferença de uma maior dispersão por parte dos iniciadores.\n",
        "\n",
        "  Os jogadores que são Flex (realizam multiplas funções) tendem a serem mais\n",
        "limitados no quesito de quantidade de abates, mas no geral, possuem uma taxa de\n",
        "HS boa e tem a 3ª melhor taxa de impacto nas partidas, podendo significar um possível\n",
        "foco em organizar em completar o time em outros quesitos que não sejam a mira,\n",
        "tendo como opções: Liderança, estratégia ou extração de 100% do uso de recursos (habilidades).\n",
        "\n",
        "  Já os Sentinelas, ao que tudo indicam, possuem uma dispersão de dados bem peculiar,\n",
        "além de outros dados serem bem decepcionates, são a função com menor impacto,\n",
        "2ª no quesito de abates e possuem a menor taxa de HS. Consolidando uma possível\n",
        "mudança de mais profissionais flex, já que de acordo com os dados, não é uma\n",
        "função com muitos benefícios.\n",
        "\"\"\"\n",
        "\n",
        "ax = sns.boxplot(y='Role', x= 'Kill', data = dados, orient = 'h')\n",
        "\n",
        "ax.figure.set_size_inches(15, 8)\n",
        "ax.set_title('Dispersão de Kills por Role', fontsize = 20)\n",
        "ax.set_xlabel('Quantidades de Kills', fontsize = 16)\n",
        "ax.set_ylabel('Funções', fontsize = 16)"
      ]
    },
    {
      "cell_type": "code",
      "execution_count": null,
      "metadata": {
        "id": "FTlZm3yJ3_kE"
      },
      "outputs": [],
      "source": [
        "\"\"\"\n",
        "  Analisando os dados individuais dos Sentinelas do campeonato, verificou-se que\n",
        "5 de 8 times da competição utilizaram um jogador fixo dessa Role, e que em um\n",
        "overview, possuem 2 jogadores que tiveram desempenhos péssimos (comparado com os\n",
        "outros jogadores do campeonato), podendo ter uma possível alteração nos resultados\n",
        "dos sentinelas por conta deles.\n",
        "\"\"\"\n",
        "dados.query('Role == \"Sentinel\"')\n"
      ]
    },
    {
      "cell_type": "code",
      "execution_count": null,
      "metadata": {
        "id": "KvZmv_z14Y2C"
      },
      "outputs": [],
      "source": [
        "# Neste Histograma, se assemelha a uma distribuição normal, porém possui muitas variações\n",
        "\n",
        "sns.set_style(\"darkgrid\")\n",
        "ax = sns.distplot(dados['Kill'])\n",
        "\n",
        "ax.figure.set_size_inches(12, 6)\n",
        "ax.set_title('Histograma das Kills', fontsize=20)\n",
        "ax.set_ylabel('Incidência', fontsize=16)\n",
        "ax.set_xlabel('Quantidade de Kills', fontsize=16)"
      ]
    },
    {
      "cell_type": "code",
      "execution_count": null,
      "metadata": {
        "id": "_3Tloc-O5EuV"
      },
      "outputs": [],
      "source": [
        "# Para poder ter uma visão melhor de quais dados podem ser comparados para poder ter um gráfico de regressão de dados fiel\n",
        "ax = sns.pairplot(dados)"
      ]
    },
    {
      "cell_type": "code",
      "execution_count": null,
      "metadata": {
        "id": "qory-cNb6Aj2"
      },
      "outputs": [],
      "source": [
        "\"\"\"\n",
        "  Ao ver que ainda assim a kill é muito impactante nessa análise, realizo uma linha\n",
        "de gráficos só para analisar as kills com todos as outras informações.\n",
        "\n",
        "  Tem 3 que são bem claros de serem analisados pela regressão de dados: Death, Rank e Rounds Played.\n",
        "\"\"\"\n",
        "ax = sns.pairplot(dados, y_vars='Kill', x_vars=['Death', 'K/D', 'Role', 'Rank', 'Rounds Played', 'KAST'])\n",
        "\n",
        "ax.fig.suptitle('Regressão dos dados em relação as Kills', fontsize = 18, y=1.10)\n",
        "ax"
      ]
    },
    {
      "cell_type": "code",
      "execution_count": null,
      "metadata": {
        "id": "8LF6C0_16GTo"
      },
      "outputs": [],
      "source": [
        "\"\"\"\n",
        "  Começando com Death, é possível perceber que quantos mais kills alguém tem,\n",
        "mais esse jogador morre, indicando uma junção de 2 situações, a busca pela Kill gera\n",
        "um risco maior de morte e quantos mais Rounds são jogados, maior o números de Abates\n",
        "e Mortes consequentemente.\n",
        "\"\"\"\n",
        "ax= sns.lmplot(x=\"Death\", y=\"Kill\", data=dados)\n",
        "\n",
        "ax.fig.suptitle('Reta de Regressão - Kills X Deaths', fontsize=16, y=1.02)\n",
        "ax.set_xlabels(\"Quantidade de Mortes\", fontsize=14)\n",
        "ax.set_ylabels(\"Quantidades de Kills\", fontsize=14)\n",
        "ax"
      ]
    },
    {
      "cell_type": "code",
      "execution_count": null,
      "metadata": {
        "id": "8BfdoF9g6sAI"
      },
      "outputs": [],
      "source": [
        "\"\"\"\n",
        "  Anteriormente, foi observado a alta taxa de abates que um duelista possui, por isso,\n",
        "separei novamente entre funções para poder ver melhor quais funções tem mais riscos de\n",
        "morrer e chances de matar.\n",
        "\n",
        "  Em suma, parece que em todas as Roles tem uma alta chance de que quanto mais tendência\n",
        "a ter abates, mais mortaliadade, principalmente os duelistas, onde a maioria tem mais\n",
        "mortes do que kills. Podendo ser do fato de se arriscarem bastante, diferente dos outros, que tendem\n",
        "a ter uma taxa de mortalidade moderada, com excessão dos players Flex, onde eles\n",
        "possuem poucas mortes, mas também poucos abates, reforçando o papel deles de outras formas.\n",
        "\"\"\"\n",
        "\n",
        "ax= sns.lmplot(x=\"Death\", y=\"Kill\", data=dados, col='Role')\n",
        "\n",
        "ax.fig.suptitle('Reta de Regressao - Kills X Deaths', fontsize=16, y=1.02)\n",
        "ax.set_xlabels(\"Quantidade de Mortes\", fontsize=14)\n",
        "ax.set_ylabels(\"Quantidades de Kills\", fontsize=14)\n",
        "ax\n",
        "\n"
      ]
    },
    {
      "cell_type": "code",
      "source": [
        "\"\"\"\n",
        "  Esse gráfico evidencia que quanto mais Rounds jogados, mais chances de se ter\n",
        "boas performance por meio das kills.\n",
        "\"\"\"\n",
        "ax= sns.lmplot(x=\"Rounds Played\", y=\"Kill\", data=dados)\n",
        "\n",
        "ax.fig.suptitle('Reta de Regressão - Kills X Rounds Jogados', fontsize=16, y=1.02)\n",
        "ax.set_xlabels(\"Quantidade de Rounds Jogados\", fontsize=14)\n",
        "ax.set_ylabels(\"Quantidades de Kills\", fontsize=14)\n",
        "ax"
      ],
      "metadata": {
        "id": "YCmy4rQFAitS"
      },
      "execution_count": null,
      "outputs": []
    },
    {
      "cell_type": "code",
      "source": [
        "# Percebi somente agora que o Rank está em str e possui o separador de casas decimais pela vígula\n",
        "dados.Rank = dados['Rank'].str.replace(',','.')\n",
        "dados.Rank = dados['Rank'].astype(float)"
      ],
      "metadata": {
        "id": "Qatp9NdSDBRY"
      },
      "execution_count": 91,
      "outputs": []
    },
    {
      "cell_type": "code",
      "source": [
        "\"\"\"\n",
        "  Com a lógica de Rounds Jogados ser grande para obter um maior desempenho em kills,\n",
        "esse gráfico evidencia ainda mais, já que os times eliminados de forma precoce tem bem menos\n",
        "Rounds. Porém há uma certa discrepancia, pois o top 2 e top 3 tem uma clara diferença de kills\n",
        "comparado com o time top 1. Por que será?\n",
        "\"\"\"\n",
        "ax= sns.lmplot(x=\"Rank\", y=\"Kill\", data=dados)\n",
        "\n",
        "ax.fig.suptitle('Reta de Regressão - Kills X Rank', fontsize=16, y=1.02)\n",
        "ax.set_xlabels(\"Rank dos Players no campeonato\", fontsize=14)\n",
        "ax.set_ylabels(\"Quantidades de Kills\", fontsize=14)\n",
        "ax"
      ],
      "metadata": {
        "id": "WiV_KbKtB3va"
      },
      "execution_count": null,
      "outputs": []
    },
    {
      "cell_type": "code",
      "source": [
        "dados_podio = dados.query('Rank == 1 or Rank == 2 or Rank == 3')\n",
        "\n",
        "dados_podio"
      ],
      "metadata": {
        "id": "239IxmYjDq_P"
      },
      "execution_count": null,
      "outputs": []
    },
    {
      "cell_type": "code",
      "source": [
        "ax = sns.barplot(data = dados_podio, y = 'Kill', x = 'Team', errorbar=None, )\n",
        "ax.set_xlabel('Times', fontsize = 12)\n",
        "ax.set_ylabel('Quantidade de Kills', fontsize = 12)\n",
        "ax.set_title('Quantidade de Kills por Time', fontsize = 20)"
      ],
      "metadata": {
        "id": "GK0xywS6EVcx"
      },
      "execution_count": null,
      "outputs": []
    },
    {
      "cell_type": "code",
      "source": [
        "ax = sns.barplot(data = dados_podio, y = 'Death', x = 'Team', errorbar=None, )\n",
        "ax.set_xlabel('Time', fontsize = 12)\n",
        "ax.set_ylabel('Quantidade de Mortes', fontsize = 12)\n",
        "ax.set_title('Quantidade de Mortes por time', fontsize = 20)"
      ],
      "metadata": {
        "id": "_ZeBSJqeEiON"
      },
      "execution_count": null,
      "outputs": []
    },
    {
      "cell_type": "code",
      "source": [
        "ax = sns.barplot(data = dados_podio, y = 'Rounds Played', x = 'Team', errorbar=None, )\n",
        "ax.set_xlabel('Times', fontsize = 12)\n",
        "ax.set_ylabel('Quantidade de Rounds Jogados', fontsize = 12)\n",
        "ax.set_title('Quantidade de Rounds Jogados por Time', fontsize = 20)"
      ],
      "metadata": {
        "id": "A7TEha74EkTc"
      },
      "execution_count": null,
      "outputs": []
    },
    {
      "cell_type": "code",
      "source": [
        "ax = sns.barplot(data = dados_podio, y = 'Rounds Lose', x = 'Team', errorbar=None, )\n",
        "ax.set_xlabel('Times', fontsize = 12)\n",
        "ax.set_ylabel('Quantidade de Rounds Perdidos', fontsize = 12)\n",
        "ax.set_title('Quantidade de Rounds Perdidos por Time', fontsize = 20)"
      ],
      "metadata": {
        "id": "XYxeXDLAFOME"
      },
      "execution_count": null,
      "outputs": []
    },
    {
      "cell_type": "markdown",
      "source": [
        "Com uma análise bem superficial pegando quase todas as estatísticas dos times no TOP 3 do campeonato (LOUD, OPTIC e DRX), constatei que, como dito anteriormente, a quantidade de rounds jogado afeta diretamnete na quantidade de kills e morte. Portanto, depois de analisar os gráficos sobre Rounds Jogados e Rounds Perdidos, ficou claro que os times TOP 2 e TOP 3 tiveram mais kills porque tiveram mais oportunidades de jogar mais mapas e assim elevando o número de Rounds Jogados e assim as kills, e também deixando o número de mortes ficarem bem parelhos aos de kills.\n",
        "\n",
        "A diferença para a LOUD é de certa forma gritante, pois a LOUD com mais de 100 rounds de diferença, teve BEM menos Rounds perdidos, uma quantidade mínima de mortes e uma taxa de Kill compatível com a quantidade de jogos.\n",
        "\n",
        "Essa é aminha visão sobre essa diferença de Kills entre as equipes do Pódio, explicando um pouco a sobre eles terem mais kills no gráfico de regressão."
      ],
      "metadata": {
        "id": "DTf32ffPFfIX"
      }
    },
    {
      "cell_type": "code",
      "source": [
        "# Realização de testes com 2 espaços amostrais (treino e teste)\n",
        "from sklearn.model_selection import train_test_split\n",
        "from sklearn.linear_model import LinearRegression\n",
        "from sklearn import metrics\n",
        "import statsmodels.api as sm"
      ],
      "metadata": {
        "id": "BtxjnaLqJZK3"
      },
      "execution_count": 98,
      "outputs": []
    },
    {
      "cell_type": "code",
      "source": [
        "# separendo a variavel dependente (y) das explicativas (X)\n",
        "y = dados['Kill']\n",
        "X = dados[['Death', 'Rounds Played', 'Rounds Win', 'HS %', 'KAST']]"
      ],
      "metadata": {
        "id": "sLVLGqqi2fmF"
      },
      "execution_count": 148,
      "outputs": []
    },
    {
      "cell_type": "code",
      "source": [
        "ax = sns.pairplot(dados, y_vars='Kill', x_vars = ['Death', 'Rounds Played', 'Rounds Win', 'Rounds Win', 'HS %', 'KAST'], height=5)\n",
        "ax.fig.suptitle('Dispersão entre as Variáveis', fontsize=20, y=1.05)\n",
        "ax"
      ],
      "metadata": {
        "id": "Qfk2CKt52fmF"
      },
      "execution_count": null,
      "outputs": []
    },
    {
      "cell_type": "markdown",
      "source": [
        "Não vou transformar todos os valores em logaritmo pois o histograma possui uma distribuição simétrica dos dados, mesmo que não seja totalmente uma distribuição normal."
      ],
      "metadata": {
        "id": "xgukYiQB7uMN"
      }
    },
    {
      "cell_type": "code",
      "source": [
        "# separando os espaços amostrais entre treino e teste\n",
        "X_train, X_test, y_train, y_test = train_test_split(X, y, test_size=0.4, random_state=42)\n",
        "\n",
        "print(X_train.shape, X_test.shape)"
      ],
      "metadata": {
        "id": "QcqtpFIj2fmF"
      },
      "execution_count": null,
      "outputs": []
    },
    {
      "cell_type": "code",
      "source": [
        "# estimar nosso modelo linear utilizando os dados de treino (y_train e X_train)\n",
        "modelo = LinearRegression()\n",
        "modelo.fit(X_train, y_train)"
      ],
      "metadata": {
        "id": "1ZMfy2V_2fmF"
      },
      "execution_count": null,
      "outputs": []
    },
    {
      "cell_type": "code",
      "source": [
        "# Obtendo o coeficiente de determinação (R²) do modelo estimado com os dados de treino\n",
        "print('R² = {}'.format(modelo.score(X_train, y_train).round(2)))"
      ],
      "metadata": {
        "id": "4Xi7IhiO2fmG"
      },
      "execution_count": null,
      "outputs": []
    },
    {
      "cell_type": "markdown",
      "source": [
        "Uma porcentagem bem bem alta, para um espaço amostral de somente 24"
      ],
      "metadata": {
        "id": "kAVg5Rm02fmG"
      }
    },
    {
      "cell_type": "code",
      "source": [
        "# Gerando previsões para os dados de teste\n",
        "y_previsto = modelo.predict(X_test)"
      ],
      "metadata": {
        "id": "g_06b-7A2fmG"
      },
      "execution_count": 154,
      "outputs": []
    },
    {
      "cell_type": "code",
      "source": [
        "# Obtendo o R² para as previsões do nosso modelo (62%, abaixou muito o valor, isto é preocupante)\n",
        "print('R² = %s' %metrics.r2_score(y_test, y_previsto).round(2))"
      ],
      "metadata": {
        "colab": {
          "base_uri": "https://localhost:8080/"
        },
        "outputId": "7e210238-582c-451e-c1de-77ae9233baca",
        "id": "_7jRExIQ2fmG"
      },
      "execution_count": 156,
      "outputs": [
        {
          "output_type": "stream",
          "name": "stdout",
          "text": [
            "R² = 0.62\n"
          ]
        }
      ]
    },
    {
      "cell_type": "code",
      "source": [
        "# Fora o R², tem mais 2 estatísticas para a realização de testes formais, e elas aparentam ter bons valores\n",
        "from sklearn import metrics\n",
        "\n",
        "EQM = metrics.mean_squared_error(y_test, y_previsto).round(2)\n",
        "REQM = np.sqrt(metrics.mean_squared_error(y_test, y_previsto)).round(2)\n",
        "R2 = metrics.r2_score(y_test, y_previsto).round(2)\n",
        "\n",
        "pd.DataFrame([EQM, REQM, R2], ['EQM', 'REQM', 'R²'], columns = ['Métricas'])"
      ],
      "metadata": {
        "id": "AJHLbODq2fmG"
      },
      "execution_count": null,
      "outputs": []
    },
    {
      "cell_type": "code",
      "source": [
        "X_train_com_const = sm.add_constant(X_train)\n",
        "modelo_statsmodels = sm.OLS(y_train, X_train_com_const, hasconst = True).fit()\n",
        "\n",
        "# Vizualizando as informções do modelo\n",
        "print(modelo_statsmodels.summary())\n"
      ],
      "metadata": {
        "id": "eapNhae12fmG"
      },
      "execution_count": null,
      "outputs": []
    },
    {
      "cell_type": "markdown",
      "source": [
        "De acordo com a análise dos valores de Prob(F) e P>|t|, constata-se que este\n",
        "modelo e as variaveis \"Rounds Win\" e \"HS %\" não passaram no teste, ou seja, ele não são estatisticamente significativos.\n",
        "\n",
        "Então para tentar fazer o próximo modelo ser estatisticamente significativo, vou retirar as variaveis \"Rounds Win\" e \"HS %\" e fazer o experimento novamente."
      ],
      "metadata": {
        "id": "bbiXoONKfGgX"
      }
    },
    {
      "cell_type": "code",
      "source": [
        "y = dados['Kill']\n",
        "X = dados[['Death', 'Rounds Played', 'KAST']]\n",
        "\n",
        "X_train, X_test, y_train, y_test = train_test_split(X, y, test_size=0.4, random_state=42)\n",
        "\n",
        "modelo.fit(X_train, y_train)\n",
        "print('R² = {}'.format(modelo.score(X_train, y_train).round(2)))"
      ],
      "metadata": {
        "id": "Iw1o8xzuJnQt"
      },
      "execution_count": null,
      "outputs": []
    },
    {
      "cell_type": "markdown",
      "source": [
        "Uma porcentagem parecida com a anterior"
      ],
      "metadata": {
        "id": "w8wvRxEcLLcQ"
      }
    },
    {
      "cell_type": "code",
      "source": [
        "# Gerando previsões para os dados de teste\n",
        "y_previsto = modelo.predict(X_test)\n",
        "print('R² = %s' %metrics.r2_score(y_test, y_previsto).round(2))"
      ],
      "metadata": {
        "id": "zDZLFLMlLFcW"
      },
      "execution_count": null,
      "outputs": []
    },
    {
      "cell_type": "code",
      "source": [
        "X_train_com_const = sm.add_constant(X_train)\n",
        "modelo_statsmodels = sm.OLS(y_train, X_train_com_const, hasconst = True).fit()\n",
        "\n",
        "# Vizualizando as informções do modelo\n",
        "print(modelo_statsmodels.summary())\n"
      ],
      "metadata": {
        "id": "VBBh6wDxe8_V"
      },
      "execution_count": null,
      "outputs": []
    },
    {
      "cell_type": "markdown",
      "source": [
        "Reprovamos no teste novamente, isto pode indicar que para realizar um modelo mais relevante, deve-se trocar a variavel dependente, assim tentando ter um ponto de vista diferente"
      ],
      "metadata": {
        "id": "CKw96zZN5EYW"
      }
    },
    {
      "cell_type": "code",
      "source": [
        "y = dados['Rounds Played']\n",
        "X = dados[['Death', 'Kill', 'Rounds Win', 'KAST']]\n",
        "\n",
        "X_train, X_test, y_train, y_test = train_test_split(X, y, test_size=0.4, random_state=42)\n",
        "\n",
        "modelo.fit(X_train, y_train)\n",
        "print('R² = {}'.format(modelo.score(X_train, y_train).round(2)))"
      ],
      "metadata": {
        "id": "Nu9OGfp95XX-"
      },
      "execution_count": null,
      "outputs": []
    },
    {
      "cell_type": "code",
      "source": [
        "# Gerando previsões para os dados de teste\n",
        "y_previsto = modelo.predict(X_test)\n",
        "print('R² = %s' %metrics.r2_score(y_test, y_previsto).round(2))"
      ],
      "metadata": {
        "id": "f23BRChj5XYG"
      },
      "execution_count": null,
      "outputs": []
    },
    {
      "cell_type": "markdown",
      "source": [
        "Teve uma porcentagem maior no teste do R² testando com o y_previsto do que anteriormente"
      ],
      "metadata": {
        "id": "vQwAl6F85nKa"
      }
    },
    {
      "cell_type": "code",
      "source": [
        "X_train_com_const = sm.add_constant(X_train)\n",
        "modelo_statsmodels = sm.OLS(y_train, X_train_com_const, hasconst = True).fit()\n",
        "\n",
        "# Vizualizando as informções do modelo\n",
        "print(modelo_statsmodels.summary())\n"
      ],
      "metadata": {
        "id": "yu5KqPFw5XYG"
      },
      "execution_count": null,
      "outputs": []
    },
    {
      "cell_type": "markdown",
      "source": [
        "Todas as estatísticas informais e o P|t| informam que os dados são bons, porém o modelo ainda reprova no Prob(F). Estão o que resta é descarta-lo para utilização na Regressão Linear.\n"
      ],
      "metadata": {
        "id": "Sa9UUBfJ57JK"
      }
    }
  ],
  "metadata": {
    "colab": {
      "provenance": []
    },
    "kernelspec": {
      "display_name": "Python 3",
      "name": "python3"
    },
    "language_info": {
      "name": "python"
    }
  },
  "nbformat": 4,
  "nbformat_minor": 0
}